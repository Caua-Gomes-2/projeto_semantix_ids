{
 "cells": [
  {
   "cell_type": "markdown",
   "id": "ac716437",
   "metadata": {},
   "source": [
    "# Análise Exploratória – IDS Região Metropolitana do RJ\n",
    "Este notebook realiza a limpeza básica da base de dados e o cálculo do campo `ids_corrigido`."
   ]
  },
  {
   "cell_type": "code",
   "execution_count": null,
   "id": "4b1e5c53",
   "metadata": {},
   "outputs": [],
   "source": [
    "import pandas as pd\n",
    "\n",
    "# Carregar os dados\n",
    "df = pd.read_csv(\"Indice_IDS_Original.csv\")\n",
    "\n",
    "# Visualizar primeiras linhas\n",
    "df.head()"
   ]
  },
  {
   "cell_type": "code",
   "execution_count": null,
   "id": "7d200950",
   "metadata": {},
   "outputs": [],
   "source": [
    "# Verificar colunas relevantes\n",
    "df.columns"
   ]
  },
  {
   "cell_type": "code",
   "execution_count": null,
   "id": "86428b34",
   "metadata": {},
   "outputs": [],
   "source": [
    "# Corrigir e calcular IDS com base na soma dos 3 fatores\n",
    "df['ids_corrigido'] = (df['IDS'] + df['IDS_2'] + df['IDS_3']) / 3"
   ]
  },
  {
   "cell_type": "code",
   "execution_count": null,
   "id": "77e142cb",
   "metadata": {},
   "outputs": [],
   "source": [
    "# Verificar distribuição do novo índice\n",
    "df['ids_corrigido'].describe()"
   ]
  },
  {
   "cell_type": "code",
   "execution_count": null,
   "id": "9791348a",
   "metadata": {},
   "outputs": [],
   "source": [
    "# Salvar planilha com IDS corrigido\n",
    "df.to_csv(\"Indice_IDS_Tratado.csv\", index=False)"
   ]
  },
  {
   "cell_type": "markdown",
   "id": "116bae82",
   "metadata": {},
   "source": [
    "📌 Este arquivo gerado (`Indice_IDS_Tratado.csv`) pode ser utilizado diretamente no Looker Studio."
   ]
  }
 ],
 "metadata": {},
 "nbformat": 4,
 "nbformat_minor": 5
}
